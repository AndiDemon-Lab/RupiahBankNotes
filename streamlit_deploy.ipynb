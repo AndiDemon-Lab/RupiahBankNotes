{
 "cells": [
  {
   "cell_type": "code",
   "execution_count": 1,
   "id": "a55f2377",
   "metadata": {},
   "outputs": [
    {
     "name": "stdout",
     "output_type": "stream",
     "text": [
      "Requirement already satisfied: pyngrok in c:\\users\\m zuhdi hanif\\appdata\\local\\packages\\pythonsoftwarefoundation.python.3.10_qbz5n2kfra8p0\\localcache\\local-packages\\python310\\site-packages (7.1.6)\n",
      "Requirement already satisfied: PyYAML>=5.1 in c:\\users\\m zuhdi hanif\\appdata\\local\\packages\\pythonsoftwarefoundation.python.3.10_qbz5n2kfra8p0\\localcache\\local-packages\\python310\\site-packages (from pyngrok) (6.0)\n",
      "Note: you may need to restart the kernel to use updated packages.\n"
     ]
    }
   ],
   "source": [
    "pip install pyngrok"
   ]
  },
  {
   "cell_type": "code",
   "execution_count": 7,
   "id": "49e4b79903a72b8e",
   "metadata": {
    "collapsed": false
   },
   "outputs": [
    {
     "name": "stdout",
     "output_type": "stream",
     "text": [
      "Overwriting app.py\n"
     ]
    }
   ],
   "source": [
    "%%writefile app.py\n",
    "\n",
    "import streamlit as st\n",
    "import cv2 as cv\n",
    "import numpy as np\n",
    "import torch\n",
    "import torchvision\n",
    "from torchvision import transforms as T\n",
    "from PIL import Image\n",
    "from torchvision.models.detection import FasterRCNN_ResNet50_FPN_Weights\n",
    "from torchvision.models.detection.faster_rcnn import FastRCNNPredictor\n",
    "\n",
    "\n",
    "label_dict = {\n",
    "    0: \"1.000\",\n",
    "    1: \"2.000\",\n",
    "    2: \"5.000\",\n",
    "    3: \"10.000\",\n",
    "    4: \"20.000\",\n",
    "    5: \"50.000\",\n",
    "    6: \"75.000\",\n",
    "    7: \"100.000\"\n",
    "}\n",
    "\n",
    "\n",
    "# Fungsi untuk memuat model\n",
    "def load_model():\n",
    "    model = torchvision.models.detection.fasterrcnn_resnet50_fpn(weights=FasterRCNN_ResNet50_FPN_Weights.DEFAULT)\n",
    "    in_features = model.roi_heads.box_predictor.cls_score.in_features\n",
    "    model.roi_heads.box_predictor = FastRCNNPredictor(in_features, num_classes=8)\n",
    "    model.load_state_dict(torch.load('rupiah_banknotes_model_88Accuracy.pth', map_location=torch.device('cpu')))\n",
    "    model.eval()\n",
    "    return model\n",
    "\n",
    "# Fungsi untuk melakukan deteksi objek\n",
    "def detect_objects(image, model):\n",
    "    transform = T.Compose([T.ToTensor()])\n",
    "    image_tensor = transform(image).unsqueeze(0)\n",
    "\n",
    "    with torch.no_grad():\n",
    "        predictions = model(image_tensor)\n",
    "\n",
    "    return predictions[0]\n",
    "\n",
    "# Fungsi untuk menampilkan hasil deteksi\n",
    "def draw_boxes(image, predictions, threshold=0.5):\n",
    "    boxes = predictions['boxes'].numpy()\n",
    "    scores = predictions['scores'].numpy()\n",
    "    labels = predictions['labels'].numpy()\n",
    "\n",
    "    for box, score, label in zip(boxes, scores, labels):\n",
    "        if score >= threshold:\n",
    "            x1, y1, x2, y2 = box\n",
    "            descriptive_label = label_dict.get(label, str(label))\n",
    "            cv.rectangle(image, (int(x1), int(y1)), (int(x2), int(y2)), (255, 0, 0), 2)\n",
    "            cv.putText(image, f'{descriptive_label}: {score:.2f}', (int(x1), int(y1) - 10), cv.FONT_HERSHEY_SIMPLEX, 0.9,\n",
    "                       (255, 0, 0), 2)\n",
    "\n",
    "    return image\n",
    "\n",
    "# Streamlit UI\n",
    "st.title(\"Real-Time Rupiah Banknotes Detection with Faster R-CNN\")\n",
    "st.write(\"Upload an image to detect objects in real-time.\")\n",
    "\n",
    "uploaded_file = st.file_uploader(\"Choose an image...\", type=[\"jpg\", \"jpeg\", \"png\"])\n",
    "\n",
    "if uploaded_file is not None:\n",
    "    image = Image.open(uploaded_file)\n",
    "    image_np = np.array(image)\n",
    "\n",
    "    st.image(image, caption='Uploaded Image', use_column_width=True)\n",
    "    st.write(\"\")\n",
    "    st.write(\"Detecting objects...\")\n",
    "\n",
    "    # Muat model\n",
    "    model = load_model()\n",
    "\n",
    "    # Lakukan deteksi objek\n",
    "    predictions = detect_objects(image, model)\n",
    "\n",
    "    # Gambar kotak deteksi pada gambar asli\n",
    "    result_image = draw_boxes(image_np.copy(), predictions)\n",
    "\n",
    "    st.image(result_image, caption='Detected Objects', use_column_width=True)\n",
    "\n",
    "st.write(\"\")\n",
    "st.write(\"Real-Time Webcam Object Detection\")\n",
    "\n",
    "if 'webcam_active' not in st.session_state:\n",
    "    st.session_state.webcam_active = False\n",
    "\n",
    "# Fungsi untuk menjalankan deteksi objek dengan webcam\n",
    "def run_webcam(camera_id):\n",
    "    cap = cv.VideoCapture(camera_id)\n",
    "    model = load_model()\n",
    "    stframe = st.empty()\n",
    "\n",
    "    while st.session_state.webcam_active:\n",
    "        ret, frame = cap.read()\n",
    "        if not ret:\n",
    "            break\n",
    "\n",
    "        # Konversi frame ke format PIL\n",
    "        frame_rgb = cv.cvtColor(frame, cv.COLOR_BGR2RGB)\n",
    "        frame_pil = Image.fromarray(frame_rgb)\n",
    "\n",
    "        # Lakukan deteksi objek\n",
    "        predictions = detect_objects(frame_pil, model)\n",
    "\n",
    "        # Gambar kotak deteksi pada frame asli\n",
    "        frame_result = draw_boxes(frame, predictions)\n",
    "\n",
    "        stframe.image(frame_result, channels=\"BGR\", use_column_width=True)\n",
    "\n",
    "    cap.release()\n",
    "    cv.destroyAllWindows()\n",
    "\n",
    "camera_id = st.selectbox(\"Select Camera\", [0, 1, 2, 3, 4])  # Anda bisa menambahkan lebih banyak ID kamera jika diperlukan\n",
    "\n",
    "if not st.session_state.webcam_active:\n",
    "    if st.button('Start Webcam'):\n",
    "        st.session_state.webcam_active = True\n",
    "        run_webcam(camera_id)\n",
    "else:\n",
    "    if st.button('Stop Webcam'):\n",
    "        st.session_state.webcam_active = False\n"
   ]
  },
  {
   "cell_type": "code",
   "execution_count": 8,
   "id": "0050b175",
   "metadata": {},
   "outputs": [
    {
     "name": "stdout",
     "output_type": "stream",
     "text": [
      "^C\n"
     ]
    }
   ],
   "source": [
    "!streamlit run app.py & npx localtunnel --port 8501"
   ]
  }
 ],
 "metadata": {
  "kernelspec": {
   "display_name": "Python 3",
   "language": "python",
   "name": "python3"
  },
  "language_info": {
   "codemirror_mode": {
    "name": "ipython",
    "version": 3
   },
   "file_extension": ".py",
   "mimetype": "text/x-python",
   "name": "python",
   "nbconvert_exporter": "python",
   "pygments_lexer": "ipython3",
   "version": "3.10.11"
  }
 },
 "nbformat": 4,
 "nbformat_minor": 5
}
